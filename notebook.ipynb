{
 "cells": [
  {
   "cell_type": "code",
   "execution_count": 1,
   "id": "9434445d",
   "metadata": {
    "ExecuteTime": {
     "end_time": "2022-03-05T15:22:30.748332Z",
     "start_time": "2022-03-05T15:22:27.456732Z"
    }
   },
   "outputs": [],
   "source": [
    "# !pip install -Uqq fastbook\n",
    "# import fastbook\n",
    "# # fastbook.setup_book()\n",
    "# from pathlib import Path\n",
    "\n",
    "from fastbook import *\n",
    "from fastai.vision.widgets import *"
   ]
  },
  {
   "cell_type": "code",
   "execution_count": 2,
   "id": "68714262",
   "metadata": {
    "ExecuteTime": {
     "end_time": "2022-03-05T15:22:30.863979Z",
     "start_time": "2022-03-05T15:22:30.800471Z"
    },
    "gradient": {
     "editing": false,
     "execution_count": 4,
     "id": "fe0aebc2",
     "kernelId": "7b4f3994-569e-45b9-8dbb-cf01541fd1bc"
    }
   },
   "outputs": [],
   "source": [
    "learn_inf = load_learner('export.pkl')"
   ]
  },
  {
   "cell_type": "code",
   "execution_count": 3,
   "id": "89390729",
   "metadata": {
    "ExecuteTime": {
     "end_time": "2022-03-05T15:22:30.979067Z",
     "start_time": "2022-03-05T15:22:30.943146Z"
    },
    "gradient": {
     "editing": false,
     "execution_count": 1,
     "id": "89390729",
     "kernelId": "7b4f3994-569e-45b9-8dbb-cf01541fd1bc"
    }
   },
   "outputs": [],
   "source": [
    "path = Path()\n",
    "learn_inf = load_learner(path/'export.pkl')"
   ]
  },
  {
   "cell_type": "code",
   "execution_count": 4,
   "id": "6218f29a",
   "metadata": {
    "ExecuteTime": {
     "end_time": "2022-03-05T15:22:36.131859Z",
     "start_time": "2022-03-05T15:22:36.114860Z"
    }
   },
   "outputs": [],
   "source": [
    "# Upload Image button\n",
    "btn_upload = widgets.FileUpload()\n",
    "out_pl = widgets.Output()\n",
    "lbl_pred = widgets.Label()"
   ]
  },
  {
   "cell_type": "code",
   "execution_count": 5,
   "id": "a26948fd",
   "metadata": {
    "ExecuteTime": {
     "end_time": "2022-03-05T15:22:37.004172Z",
     "start_time": "2022-03-05T15:22:37.000634Z"
    }
   },
   "outputs": [],
   "source": [
    "# click event handler; that is, a function that will be called when it's pressed\n",
    "def on_click_classify(change):\n",
    "    img = PILImage.create(btn_upload.data[-1])\n",
    "    out_pl.clear_output()\n",
    "    with out_pl: display(img.to_thumb(128,128))\n",
    "    pred,pred_idx,probs = learn_inf.predict(img)\n",
    "    lbl_pred.value = f'Prediction: {pred}; Probability: {probs[pred_idx]:.04f}'"
   ]
  },
  {
   "cell_type": "code",
   "execution_count": 6,
   "id": "840d9d22",
   "metadata": {
    "ExecuteTime": {
     "end_time": "2022-03-05T15:22:37.429857Z",
     "start_time": "2022-03-05T15:22:37.422474Z"
    },
    "gradient": {
     "editing": false,
     "execution_count": 5,
     "id": "840d9d22",
     "kernelId": "7b4f3994-569e-45b9-8dbb-cf01541fd1bc"
    }
   },
   "outputs": [],
   "source": [
    "# Classify Image button\n",
    "btn_run = widgets.Button(description='Classify')"
   ]
  },
  {
   "cell_type": "code",
   "execution_count": 7,
   "id": "82a31e0c",
   "metadata": {
    "ExecuteTime": {
     "end_time": "2022-03-05T15:22:37.740765Z",
     "start_time": "2022-03-05T15:22:37.738555Z"
    },
    "gradient": {
     "editing": false,
     "execution_count": 8,
     "id": "82a31e0c",
     "kernelId": "7b4f3994-569e-45b9-8dbb-cf01541fd1bc"
    }
   },
   "outputs": [],
   "source": [
    "btn_run.on_click(on_click_classify)"
   ]
  },
  {
   "cell_type": "markdown",
   "id": "869b097b",
   "metadata": {},
   "source": [
    "## Upload Photo with Car Damage"
   ]
  },
  {
   "cell_type": "code",
   "execution_count": 11,
   "id": "da6e85b4",
   "metadata": {
    "ExecuteTime": {
     "end_time": "2022-03-05T15:31:21.291297Z",
     "start_time": "2022-03-05T15:31:21.281539Z"
    },
    "gradient": {
     "editing": false,
     "execution_count": 10,
     "id": "da6e85b4",
     "kernelId": "7b4f3994-569e-45b9-8dbb-cf01541fd1bc"
    }
   },
   "outputs": [
    {
     "data": {
      "application/vnd.jupyter.widget-view+json": {
       "model_id": "6470ec32c16a4920b2255bce73251d9c",
       "version_major": 2,
       "version_minor": 0
      },
      "text/plain": [
       "VBox(children=(FileUpload(value={}, description='Upload'), Button(description='Classify', style=ButtonStyle())…"
      ]
     },
     "metadata": {},
     "output_type": "display_data"
    }
   ],
   "source": [
    "#hide_output\n",
    "VBox([btn_upload, btn_run, out_pl, lbl_pred])"
   ]
  },
  {
   "cell_type": "code",
   "execution_count": null,
   "id": "6b25aa35",
   "metadata": {
    "gradient": {
     "id": "6b25aa35",
     "kernelId": "7b4f3994-569e-45b9-8dbb-cf01541fd1bc"
    }
   },
   "outputs": [],
   "source": []
  }
 ],
 "metadata": {
  "kernelspec": {
   "display_name": "Python 3",
   "language": "python",
   "name": "python3"
  },
  "language_info": {
   "codemirror_mode": {
    "name": "ipython",
    "version": 3
   },
   "file_extension": ".py",
   "mimetype": "text/x-python",
   "name": "python",
   "nbconvert_exporter": "python",
   "pygments_lexer": "ipython3",
   "version": "3.8.2"
  },
  "toc": {
   "base_numbering": 1,
   "nav_menu": {},
   "number_sections": true,
   "sideBar": true,
   "skip_h1_title": false,
   "title_cell": "Table of Contents",
   "title_sidebar": "Contents",
   "toc_cell": false,
   "toc_position": {},
   "toc_section_display": true,
   "toc_window_display": false
  },
  "varInspector": {
   "cols": {
    "lenName": 16,
    "lenType": 16,
    "lenVar": 40
   },
   "kernels_config": {
    "python": {
     "delete_cmd_postfix": "",
     "delete_cmd_prefix": "del ",
     "library": "var_list.py",
     "varRefreshCmd": "print(var_dic_list())"
    },
    "r": {
     "delete_cmd_postfix": ") ",
     "delete_cmd_prefix": "rm(",
     "library": "var_list.r",
     "varRefreshCmd": "cat(var_dic_list()) "
    }
   },
   "types_to_exclude": [
    "module",
    "function",
    "builtin_function_or_method",
    "instance",
    "_Feature"
   ],
   "window_display": false
  }
 },
 "nbformat": 4,
 "nbformat_minor": 5
}
