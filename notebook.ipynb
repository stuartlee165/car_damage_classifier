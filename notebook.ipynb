{
 "cells": [
  {
   "cell_type": "code",
   "execution_count": null,
   "id": "933d6eb2",
   "metadata": {},
   "outputs": [],
   "source": [
    "# !pip install -Uqq fastbook\n",
    "import fastbook\n",
    "fastbook.setup_book()\n",
    "\n",
    "from fastbook import *\n",
    "from fastai.vision.widgets import *\n",
    "from pathlib import Path\n"
   ]
  },
  {
   "cell_type": "code",
   "execution_count": null,
   "id": "89390729",
   "metadata": {
    "gradient": {
     "editing": false,
     "execution_count": 1,
     "id": "89390729",
     "kernelId": "7b4f3994-569e-45b9-8dbb-cf01541fd1bc"
    }
   },
   "outputs": [],
   "source": [
    "path = Path()\n",
    "learn_inf = load_learner(path/'model.pkl')"
   ]
  },
  {
   "cell_type": "code",
   "execution_count": null,
   "id": "56c62e1d",
   "metadata": {
    "gradient": {
     "editing": false,
     "execution_count": 2,
     "id": "56c62e1d",
     "kernelId": "7b4f3994-569e-45b9-8dbb-cf01541fd1bc"
    }
   },
   "outputs": [
    {
     "data": {
      "text/html": [
       "\n",
       "    <div>\n",
       "        <style>\n",
       "            /* Turns off some styling */\n",
       "            progress {\n",
       "                /* gets rid of default border in Firefox and Opera. */\n",
       "                border: none;\n",
       "                /* Needs to be in here for Safari polyfill so background images work as expected. */\n",
       "                background-size: auto;\n",
       "            }\n",
       "            .progress-bar-interrupted, .progress-bar-interrupted::-webkit-progress-bar {\n",
       "                background: #F44336;\n",
       "            }\n",
       "        </style>\n",
       "      <progress value='196608' class='' max='191079' style='width:300px; height:20px; vertical-align: middle;'></progress>\n",
       "      102.89% [196608/191079 00:00<00:00]\n",
       "    </div>\n",
       "    "
      ],
      "text/plain": [
       "<IPython.core.display.HTML object>"
      ]
     },
     "metadata": {},
     "output_type": "display_data"
    }
   ],
   "source": [
    "# Load default image\n",
    "\n",
    "#hide\n",
    "ims = ['https://static2.bigstockphoto.com/0/3/3/large1500/330238771.jpg']\n",
    "dest = 'images/headlight.jpg'\n",
    "download_url(ims[0], dest)\n",
    "\n",
    "im = Image.open(dest)\n"
   ]
  },
  {
   "cell_type": "code",
   "execution_count": null,
   "id": "eef1e89b",
   "metadata": {
    "gradient": {
     "editing": false,
     "execution_count": 3,
     "id": "eef1e89b",
     "kernelId": "7b4f3994-569e-45b9-8dbb-cf01541fd1bc"
    }
   },
   "outputs": [],
   "source": [
    "img = im.to_thumb(128,128)"
   ]
  },
  {
   "cell_type": "code",
   "execution_count": null,
   "id": "fe0aebc2",
   "metadata": {
    "gradient": {
     "editing": false,
     "execution_count": 4,
     "id": "fe0aebc2",
     "kernelId": "7b4f3994-569e-45b9-8dbb-cf01541fd1bc"
    }
   },
   "outputs": [],
   "source": [
    "learn_inf = load_learner('export.pkl')"
   ]
  },
  {
   "cell_type": "code",
   "execution_count": null,
   "id": "840d9d22",
   "metadata": {
    "gradient": {
     "editing": false,
     "execution_count": 5,
     "id": "840d9d22",
     "kernelId": "7b4f3994-569e-45b9-8dbb-cf01541fd1bc"
    }
   },
   "outputs": [],
   "source": [
    "# Create some buttons\n",
    "\n",
    "# Upload Image button\n",
    "btn_upload = widgets.FileUpload()\n",
    "\n",
    "# Classify Image button\n",
    "btn_run = widgets.Button(description='Classify')"
   ]
  },
  {
   "cell_type": "code",
   "execution_count": null,
   "id": "df51e2ab",
   "metadata": {
    "gradient": {
     "editing": false,
     "execution_count": 6,
     "id": "df51e2ab",
     "kernelId": "7b4f3994-569e-45b9-8dbb-cf01541fd1bc"
    }
   },
   "outputs": [],
   "source": [
    "lbl_pred = widgets.Label()"
   ]
  },
  {
   "cell_type": "code",
   "execution_count": null,
   "id": "47a39406",
   "metadata": {
    "gradient": {
     "editing": false,
     "execution_count": 7,
     "id": "47a39406",
     "kernelId": "7b4f3994-569e-45b9-8dbb-cf01541fd1bc"
    }
   },
   "outputs": [],
   "source": [
    "# learn_inf.predict(img)"
   ]
  },
  {
   "cell_type": "code",
   "execution_count": null,
   "id": "82a31e0c",
   "metadata": {
    "gradient": {
     "editing": false,
     "execution_count": 8,
     "id": "82a31e0c",
     "kernelId": "7b4f3994-569e-45b9-8dbb-cf01541fd1bc"
    }
   },
   "outputs": [],
   "source": [
    "# click event handler; that is, a function that will be called when it's pressed\n",
    "def on_click_classify(change):\n",
    "    img = PILImage.create(btn_upload.data[-1])\n",
    "    out_pl.clear_output()\n",
    "    with out_pl: display(img.to_thumb(128,128))\n",
    "    pred,pred_idx,probs = learn_inf.predict(img)\n",
    "    lbl_pred.value = f'Prediction: {pred}; Probability: {probs[pred_idx]:.04f}'\n",
    "\n",
    "btn_run.on_click(on_click_classify)"
   ]
  },
  {
   "cell_type": "code",
   "execution_count": null,
   "id": "43beb03b",
   "metadata": {
    "gradient": {
     "editing": false,
     "execution_count": 9,
     "id": "43beb03b",
     "kernelId": "7b4f3994-569e-45b9-8dbb-cf01541fd1bc"
    }
   },
   "outputs": [],
   "source": [
    "#hide_output\n",
    "out_pl = widgets.Output()\n",
    "out_pl.clear_output()\n",
    "with out_pl: display(img.to_thumb(128,128))\n"
   ]
  },
  {
   "cell_type": "code",
   "execution_count": null,
   "id": "da6e85b4",
   "metadata": {
    "gradient": {
     "editing": false,
     "execution_count": 10,
     "id": "da6e85b4",
     "kernelId": "7b4f3994-569e-45b9-8dbb-cf01541fd1bc"
    }
   },
   "outputs": [
    {
     "data": {
      "application/vnd.jupyter.widget-view+json": {
       "model_id": "2991471b52bc47b093d6860106661911",
       "version_major": 2,
       "version_minor": 0
      },
      "text/plain": [
       "VBox(children=(Label(value='Upload car damage photo'), FileUpload(value={}, description='Upload'), Button(desc…"
      ]
     },
     "metadata": {},
     "output_type": "display_data"
    },
    {
     "data": {
      "text/html": [],
      "text/plain": [
       "<IPython.core.display.HTML object>"
      ]
     },
     "metadata": {},
     "output_type": "display_data"
    }
   ],
   "source": [
    "#hide_output\n",
    "VBox([widgets.Label('Upload car damage photo'), \n",
    "      btn_upload, btn_run, out_pl, lbl_pred])"
   ]
  },
  {
   "cell_type": "code",
   "execution_count": null,
   "id": "6b25aa35",
   "metadata": {
    "gradient": {
     "id": "6b25aa35",
     "kernelId": "7b4f3994-569e-45b9-8dbb-cf01541fd1bc"
    }
   },
   "outputs": [],
   "source": []
  }
 ],
 "metadata": {
  "kernelspec": {
   "display_name": "Python 3",
   "language": "python",
   "name": "python3"
  },
  "language_info": {
   "codemirror_mode": {
    "name": "ipython",
    "version": 3
   },
   "file_extension": ".py",
   "mimetype": "text/x-python",
   "name": "python",
   "nbconvert_exporter": "python",
   "pygments_lexer": "ipython3",
   "version": "3.8.2"
  },
  "toc": {
   "base_numbering": 1,
   "nav_menu": {},
   "number_sections": true,
   "sideBar": true,
   "skip_h1_title": false,
   "title_cell": "Table of Contents",
   "title_sidebar": "Contents",
   "toc_cell": false,
   "toc_position": {},
   "toc_section_display": true,
   "toc_window_display": false
  },
  "varInspector": {
   "cols": {
    "lenName": 16,
    "lenType": 16,
    "lenVar": 40
   },
   "kernels_config": {
    "python": {
     "delete_cmd_postfix": "",
     "delete_cmd_prefix": "del ",
     "library": "var_list.py",
     "varRefreshCmd": "print(var_dic_list())"
    },
    "r": {
     "delete_cmd_postfix": ") ",
     "delete_cmd_prefix": "rm(",
     "library": "var_list.r",
     "varRefreshCmd": "cat(var_dic_list()) "
    }
   },
   "types_to_exclude": [
    "module",
    "function",
    "builtin_function_or_method",
    "instance",
    "_Feature"
   ],
   "window_display": false
  }
 },
 "nbformat": 4,
 "nbformat_minor": 5
}
