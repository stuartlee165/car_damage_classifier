{
 "cells": [
  {
   "cell_type": "code",
   "execution_count": 3,
   "id": "9434445d",
   "metadata": {
    "ExecuteTime": {
     "end_time": "2022-03-05T17:12:17.093938Z",
     "start_time": "2022-03-05T17:11:38.413534Z"
    }
   },
   "outputs": [
    {
     "name": "stderr",
     "output_type": "stream",
     "text": [
      "/Library/Frameworks/Python.framework/Versions/3.7/lib/python3.7/site-packages/fastbook/__init__.py:19: UserWarning: Missing `graphviz` - please run `conda install fastbook`\n",
      "  except ModuleNotFoundError: warn(\"Missing `graphviz` - please run `conda install fastbook`\")\n"
     ]
    }
   ],
   "source": [
    "# !pip install -Uqq fastbook\n",
    "# import fastbook\n",
    "# # fastbook.setup_book()\n",
    "# from pathlib import Path\n",
    "\n",
    "from fastbook import *\n",
    "from fastai.vision.widgets import *"
   ]
  },
  {
   "cell_type": "code",
   "execution_count": 4,
   "id": "89390729",
   "metadata": {
    "ExecuteTime": {
     "end_time": "2022-03-05T17:12:17.530067Z",
     "start_time": "2022-03-05T17:12:17.249822Z"
    },
    "gradient": {
     "editing": false,
     "execution_count": 1,
     "id": "89390729",
     "kernelId": "7b4f3994-569e-45b9-8dbb-cf01541fd1bc"
    }
   },
   "outputs": [],
   "source": [
    "path = Path()\n",
    "learn_inf = load_learner(path/'export.pkl',cpu=True)"
   ]
  },
  {
   "cell_type": "code",
   "execution_count": 5,
   "id": "6218f29a",
   "metadata": {
    "ExecuteTime": {
     "end_time": "2022-03-05T17:12:17.786220Z",
     "start_time": "2022-03-05T17:12:17.686429Z"
    }
   },
   "outputs": [],
   "source": [
    "# Upload Image button\n",
    "btn_upload = widgets.FileUpload()\n",
    "out_pl = widgets.Output()\n",
    "lbl_pred = widgets.Label()"
   ]
  },
  {
   "cell_type": "code",
   "execution_count": 6,
   "id": "a26948fd",
   "metadata": {
    "ExecuteTime": {
     "end_time": "2022-03-05T17:12:18.049966Z",
     "start_time": "2022-03-05T17:12:18.040937Z"
    }
   },
   "outputs": [],
   "source": [
    "# click event handler; that is, a function that will be called when it's pressed\n",
    "def on_click_classify(change):\n",
    "    img = PILImage.create(btn_upload.data[-1])\n",
    "    out_pl.clear_output()\n",
    "    with out_pl: display(img.to_thumb(128,128))\n",
    "    pred,pred_idx,probs = learn_inf.predict(img)\n",
    "    lbl_pred.value = f'Prediction: {pred}; Probability: {probs[pred_idx]:.04f}'"
   ]
  },
  {
   "cell_type": "code",
   "execution_count": 7,
   "id": "840d9d22",
   "metadata": {
    "ExecuteTime": {
     "end_time": "2022-03-05T17:12:18.225497Z",
     "start_time": "2022-03-05T17:12:18.198538Z"
    },
    "gradient": {
     "editing": false,
     "execution_count": 5,
     "id": "840d9d22",
     "kernelId": "7b4f3994-569e-45b9-8dbb-cf01541fd1bc"
    }
   },
   "outputs": [],
   "source": [
    "# Classify Image button\n",
    "btn_run = widgets.Button(description='Classify')"
   ]
  },
  {
   "cell_type": "code",
   "execution_count": 8,
   "id": "82a31e0c",
   "metadata": {
    "ExecuteTime": {
     "end_time": "2022-03-05T17:12:18.355708Z",
     "start_time": "2022-03-05T17:12:18.344028Z"
    },
    "gradient": {
     "editing": false,
     "execution_count": 8,
     "id": "82a31e0c",
     "kernelId": "7b4f3994-569e-45b9-8dbb-cf01541fd1bc"
    }
   },
   "outputs": [],
   "source": [
    "btn_run.on_click(on_click_classify)"
   ]
  },
  {
   "cell_type": "markdown",
   "id": "869b097b",
   "metadata": {},
   "source": [
    "## Upload Photo with Car Damage"
   ]
  },
  {
   "cell_type": "code",
   "execution_count": 9,
   "id": "da6e85b4",
   "metadata": {
    "ExecuteTime": {
     "end_time": "2022-03-05T17:12:18.535922Z",
     "start_time": "2022-03-05T17:12:18.493980Z"
    },
    "gradient": {
     "editing": false,
     "execution_count": 10,
     "id": "da6e85b4",
     "kernelId": "7b4f3994-569e-45b9-8dbb-cf01541fd1bc"
    }
   },
   "outputs": [
    {
     "data": {
      "application/vnd.jupyter.widget-view+json": {
       "model_id": "1757d3a2993f47af8c663cf81045f6a8",
       "version_major": 2,
       "version_minor": 0
      },
      "text/plain": [
       "VBox(children=(FileUpload(value={}, description='Upload'), Button(description='Classify', style=ButtonStyle())…"
      ]
     },
     "metadata": {},
     "output_type": "display_data"
    }
   ],
   "source": [
    "#hide_output\n",
    "VBox([btn_upload, btn_run, out_pl, lbl_pred])"
   ]
  },
  {
   "cell_type": "code",
   "execution_count": null,
   "id": "6b25aa35",
   "metadata": {
    "gradient": {
     "id": "6b25aa35",
     "kernelId": "7b4f3994-569e-45b9-8dbb-cf01541fd1bc"
    }
   },
   "outputs": [],
   "source": []
  }
 ],
 "metadata": {
  "kernelspec": {
   "display_name": "Python 3",
   "language": "python",
   "name": "python3"
  },
  "language_info": {
   "codemirror_mode": {
    "name": "ipython",
    "version": 3
   },
   "file_extension": ".py",
   "mimetype": "text/x-python",
   "name": "python",
   "nbconvert_exporter": "python",
   "pygments_lexer": "ipython3",
   "version": "3.7.0"
  },
  "toc": {
   "base_numbering": 1,
   "nav_menu": {},
   "number_sections": true,
   "sideBar": true,
   "skip_h1_title": false,
   "title_cell": "Table of Contents",
   "title_sidebar": "Contents",
   "toc_cell": false,
   "toc_position": {},
   "toc_section_display": true,
   "toc_window_display": false
  },
  "varInspector": {
   "cols": {
    "lenName": 16,
    "lenType": 16,
    "lenVar": 40
   },
   "kernels_config": {
    "python": {
     "delete_cmd_postfix": "",
     "delete_cmd_prefix": "del ",
     "library": "var_list.py",
     "varRefreshCmd": "print(var_dic_list())"
    },
    "r": {
     "delete_cmd_postfix": ") ",
     "delete_cmd_prefix": "rm(",
     "library": "var_list.r",
     "varRefreshCmd": "cat(var_dic_list()) "
    }
   },
   "types_to_exclude": [
    "module",
    "function",
    "builtin_function_or_method",
    "instance",
    "_Feature"
   ],
   "window_display": false
  }
 },
 "nbformat": 4,
 "nbformat_minor": 5
}
