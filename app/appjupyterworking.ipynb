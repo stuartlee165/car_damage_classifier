{
 "cells": [
  {
   "cell_type": "code",
   "execution_count": 21,
   "id": "3746e5d8",
   "metadata": {
    "ExecuteTime": {
     "end_time": "2022-03-12T17:27:22.372419Z",
     "start_time": "2022-03-12T17:27:22.365985Z"
    }
   },
   "outputs": [],
   "source": [
    "# Importing Necessary packages\n",
    "from flask import Flask,render_template, request, jsonify\n",
    "import numpy as np\n",
    "from fastai.vision import *\n",
    "from fastbook import *\n",
    "from fastai.vision.widgets import *\n",
    "\n",
    "import pickle\n",
    "import io\n",
    "import os\n"
   ]
  },
  {
   "cell_type": "code",
   "execution_count": 22,
   "id": "ffe3281d",
   "metadata": {
    "ExecuteTime": {
     "end_time": "2022-03-12T17:27:22.563837Z",
     "start_time": "2022-03-12T17:27:22.559732Z"
    }
   },
   "outputs": [],
   "source": [
    "# setting working dir\n",
    "cwd = os.getcwd()\n",
    "path= cwd + '/model'\n",
    "\n",
    "# Initialiazing flask app\n",
    "app = Flask(__name__)\n",
    "\n"
   ]
  },
  {
   "cell_type": "code",
   "execution_count": 23,
   "id": "8285f7c4",
   "metadata": {
    "ExecuteTime": {
     "end_time": "2022-03-12T17:27:22.754728Z",
     "start_time": "2022-03-12T17:27:22.752256Z"
    }
   },
   "outputs": [],
   "source": [
    "path = Path('model')"
   ]
  },
  {
   "cell_type": "code",
   "execution_count": 24,
   "id": "fc984fdb",
   "metadata": {
    "ExecuteTime": {
     "end_time": "2022-03-12T17:27:22.976180Z",
     "start_time": "2022-03-12T17:27:22.920343Z"
    }
   },
   "outputs": [],
   "source": [
    "#Loading  saved model\n",
    "# model = load_learner(path/'model.pkl')\n",
    "\n",
    "model = load_learner('model/model.pkl')\n",
    "\n"
   ]
  },
  {
   "cell_type": "code",
   "execution_count": 25,
   "id": "5b5b795f",
   "metadata": {
    "ExecuteTime": {
     "end_time": "2022-03-12T20:02:59.333549Z",
     "start_time": "2022-03-12T17:27:23.457597Z"
    }
   },
   "outputs": [
    {
     "name": "stdout",
     "output_type": "stream",
     "text": [
      " * Serving Flask app \"__main__\" (lazy loading)\n",
      " * Environment: production\n",
      "\u001b[31m   WARNING: This is a development server. Do not use it in a production deployment.\u001b[0m\n",
      "\u001b[2m   Use a production WSGI server instead.\u001b[0m\n",
      " * Debug mode: off\n"
     ]
    },
    {
     "name": "stderr",
     "output_type": "stream",
     "text": [
      " * Running on http://0.0.0.0:8080/ (Press CTRL+C to quit)\n",
      "127.0.0.1 - - [12/Mar/2022 17:27:28] \"\u001b[37mGET / HTTP/1.1\u001b[0m\" 200 -\n",
      "127.0.0.1 - - [12/Mar/2022 17:27:28] \"\u001b[33mGET /static/resources/img_rsrc.svg HTTP/1.1\u001b[0m\" 404 -\n",
      "127.0.0.1 - - [12/Mar/2022 17:27:28] \"\u001b[33mGET /static/resources/loading.svg HTTP/1.1\u001b[0m\" 404 -\n",
      "127.0.0.1 - - [12/Mar/2022 17:27:28] \"\u001b[37mGET / HTTP/1.1\u001b[0m\" 200 -\n",
      "127.0.0.1 - - [12/Mar/2022 17:27:29] \"\u001b[31m\u001b[1mPOST /upload HTTP/1.1\u001b[0m\" 400 -\n",
      "127.0.0.1 - - [12/Mar/2022 17:27:29] \"\u001b[33mGET /static/resources/loading.svg HTTP/1.1\u001b[0m\" 404 -\n",
      "127.0.0.1 - - [12/Mar/2022 17:27:34] \"\u001b[31m\u001b[1mPOST /upload HTTP/1.1\u001b[0m\" 400 -\n",
      "127.0.0.1 - - [12/Mar/2022 17:27:34] \"\u001b[33mGET /static/resources/loading.svg HTTP/1.1\u001b[0m\" 404 -\n",
      "127.0.0.1 - - [12/Mar/2022 17:27:44] \"\u001b[31m\u001b[1mPOST /upload HTTP/1.1\u001b[0m\" 400 -\n",
      "127.0.0.1 - - [12/Mar/2022 17:27:44] \"\u001b[33mGET /static/resources/loading.svg HTTP/1.1\u001b[0m\" 404 -\n",
      "127.0.0.1 - - [12/Mar/2022 17:27:48] \"\u001b[31m\u001b[1mPOST /upload HTTP/1.1\u001b[0m\" 400 -\n",
      "127.0.0.1 - - [12/Mar/2022 17:27:48] \"\u001b[33mGET /static/resources/loading.svg HTTP/1.1\u001b[0m\" 404 -\n",
      "127.0.0.1 - - [12/Mar/2022 17:28:12] \"\u001b[33mGET /static/resources/loading.svg HTTP/1.1\u001b[0m\" 404 -\n"
     ]
    },
    {
     "data": {
      "text/html": [
       "\n",
       "<style>\n",
       "    /* Turns off some styling */\n",
       "    progress {\n",
       "        /* gets rid of default border in Firefox and Opera. */\n",
       "        border: none;\n",
       "        /* Needs to be in here for Safari polyfill so background images work as expected. */\n",
       "        background-size: auto;\n",
       "    }\n",
       "    .progress-bar-interrupted, .progress-bar-interrupted::-webkit-progress-bar {\n",
       "        background: #F44336;\n",
       "    }\n",
       "</style>\n"
      ],
      "text/plain": [
       "<IPython.core.display.HTML object>"
      ]
     },
     "metadata": {},
     "output_type": "display_data"
    },
    {
     "data": {
      "text/html": [],
      "text/plain": [
       "<IPython.core.display.HTML object>"
      ]
     },
     "metadata": {},
     "output_type": "display_data"
    },
    {
     "name": "stderr",
     "output_type": "stream",
     "text": [
      "127.0.0.1 - - [12/Mar/2022 17:28:13] \"\u001b[37mPOST /upload HTTP/1.1\u001b[0m\" 200 -\n",
      "127.0.0.1 - - [12/Mar/2022 17:29:00] \"\u001b[33mGET /static/resources/loading.svg HTTP/1.1\u001b[0m\" 404 -\n"
     ]
    },
    {
     "data": {
      "text/html": [
       "\n",
       "<style>\n",
       "    /* Turns off some styling */\n",
       "    progress {\n",
       "        /* gets rid of default border in Firefox and Opera. */\n",
       "        border: none;\n",
       "        /* Needs to be in here for Safari polyfill so background images work as expected. */\n",
       "        background-size: auto;\n",
       "    }\n",
       "    .progress-bar-interrupted, .progress-bar-interrupted::-webkit-progress-bar {\n",
       "        background: #F44336;\n",
       "    }\n",
       "</style>\n"
      ],
      "text/plain": [
       "<IPython.core.display.HTML object>"
      ]
     },
     "metadata": {},
     "output_type": "display_data"
    },
    {
     "data": {
      "text/html": [],
      "text/plain": [
       "<IPython.core.display.HTML object>"
      ]
     },
     "metadata": {},
     "output_type": "display_data"
    },
    {
     "name": "stderr",
     "output_type": "stream",
     "text": [
      "127.0.0.1 - - [12/Mar/2022 17:29:00] \"\u001b[37mPOST /upload HTTP/1.1\u001b[0m\" 200 -\n"
     ]
    }
   ],
   "source": [
    "\n",
    "\n",
    "# Rendering index.html at /\n",
    "@app.route('/')\n",
    "def index():\n",
    "    return render_template('index.html')\n",
    "\n",
    "# Getting data with POST Method\n",
    "@app.route('/upload', methods=[\"POST\"])\n",
    "def upload():\n",
    "    # try:\n",
    "        # Getting img from POST\n",
    "        file = request.files['user-img'].read()\n",
    "        # Resizing img to 224 X 224 , This is the size on which model was trained\n",
    "#         img = open_image(io.BytesIO(file))\n",
    "        img = PILImage.create(file)\n",
    "        # Prediction using model\n",
    "        prediction = model.predict(img)[0]\n",
    "\n",
    "        # Getting Prediction ready to sent it to frontend\n",
    "        response = {\"result\": str(prediction)}\n",
    "        return jsonify(response)\n",
    "\n",
    "#running app at localhost on port 8080\n",
    "if __name__ == '__main__':\n",
    "    app.run(host='0.0.0.0', port=8080)\n"
   ]
  },
  {
   "cell_type": "code",
   "execution_count": null,
   "id": "0a3c0023",
   "metadata": {},
   "outputs": [],
   "source": []
  }
 ],
 "metadata": {
  "kernelspec": {
   "display_name": "Python 3",
   "language": "python",
   "name": "python3"
  },
  "language_info": {
   "codemirror_mode": {
    "name": "ipython",
    "version": 3
   },
   "file_extension": ".py",
   "mimetype": "text/x-python",
   "name": "python",
   "nbconvert_exporter": "python",
   "pygments_lexer": "ipython3",
   "version": "3.8.2"
  },
  "toc": {
   "base_numbering": 1,
   "nav_menu": {},
   "number_sections": true,
   "sideBar": true,
   "skip_h1_title": false,
   "title_cell": "Table of Contents",
   "title_sidebar": "Contents",
   "toc_cell": false,
   "toc_position": {},
   "toc_section_display": true,
   "toc_window_display": false
  },
  "varInspector": {
   "cols": {
    "lenName": 16,
    "lenType": 16,
    "lenVar": 40
   },
   "kernels_config": {
    "python": {
     "delete_cmd_postfix": "",
     "delete_cmd_prefix": "del ",
     "library": "var_list.py",
     "varRefreshCmd": "print(var_dic_list())"
    },
    "r": {
     "delete_cmd_postfix": ") ",
     "delete_cmd_prefix": "rm(",
     "library": "var_list.r",
     "varRefreshCmd": "cat(var_dic_list()) "
    }
   },
   "types_to_exclude": [
    "module",
    "function",
    "builtin_function_or_method",
    "instance",
    "_Feature"
   ],
   "window_display": false
  }
 },
 "nbformat": 4,
 "nbformat_minor": 5
}
